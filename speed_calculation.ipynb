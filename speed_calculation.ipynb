{
  "nbformat": 4,
  "nbformat_minor": 0,
  "metadata": {
    "colab": {
      "name": "speed_calculation.ipynb",
      "provenance": [],
      "collapsed_sections": [],
      "authorship_tag": "ABX9TyOvnciJEfhubX7uzwloEjq7",
      "include_colab_link": true
    },
    "kernelspec": {
      "name": "python3",
      "display_name": "Python 3"
    },
    "language_info": {
      "name": "python"
    }
  },
  "cells": [
    {
      "cell_type": "markdown",
      "metadata": {
        "id": "view-in-github",
        "colab_type": "text"
      },
      "source": [
        "<a href=\"https://colab.research.google.com/github/Harismitha20/abc/blob/abc1/speed_calculation.ipynb\" target=\"_parent\"><img src=\"https://colab.research.google.com/assets/colab-badge.svg\" alt=\"Open In Colab\"/></a>"
      ]
    },
    {
      "cell_type": "code",
      "execution_count": 7,
      "metadata": {
        "colab": {
          "base_uri": "https://localhost:8080/"
        },
        "id": "xvtm6SRtLbUj",
        "outputId": "d71e998b-0fbb-4a00-dd3e-04b8cb640581"
      },
      "outputs": [
        {
          "output_type": "stream",
          "name": "stdout",
          "text": [
            "enter your annual salary:50000\n",
            "enter the number of yearsyears employed:10\n",
            "you are qualified for loan\n"
          ]
        }
      ],
      "source": [
        "MIN_SALARY = 30000.0\n",
        "MIN_YEARS = 2\n",
        "\n",
        "salary = float(input('enter your annual salary:'))\n",
        "\n",
        "years_on_job = int(input('enter the number of years' + 'years employed:'))\n",
        "\n",
        "if salary >= MIN_SALARY or years_on_job >= MIN_YEARS:\n",
        "  print('you are qualified for loan')\n",
        "else:\n",
        "    print('you are not qualified for loan')"
      ]
    },
    {
      "cell_type": "code",
      "source": [
        "start = 60\n",
        "end = 131\n",
        "increment = 10\n",
        "conversion_factor = 0.6214\n",
        "\n",
        "print('KPH/tMPH')\n",
        "print('---------------')\n",
        "for kph in range(start, end, increment ):\n",
        "  mph=kph * conversion_factor\n",
        "  print(kph, '\\t', format(mph, '.1f'))\n",
        "\n"
      ],
      "metadata": {
        "colab": {
          "base_uri": "https://localhost:8080/"
        },
        "id": "n8EhtNMbP8xf",
        "outputId": "227c9978-e365-4ae5-c692-5ec336200750"
      },
      "execution_count": 15,
      "outputs": [
        {
          "output_type": "stream",
          "name": "stdout",
          "text": [
            "KPH/tMPH\n",
            "---------------\n",
            "60 \t 37.3\n",
            "70 \t 43.5\n",
            "80 \t 49.7\n",
            "90 \t 55.9\n",
            "100 \t 62.1\n",
            "110 \t 68.4\n",
            "120 \t 74.6\n",
            "130 \t 80.8\n"
          ]
        }
      ]
    },
    {
      "cell_type": "code",
      "source": [
        ""
      ],
      "metadata": {
        "id": "uuXzTj43V4o_"
      },
      "execution_count": null,
      "outputs": []
    }
  ]
}