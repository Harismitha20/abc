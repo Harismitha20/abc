{
  "nbformat": 4,
  "nbformat_minor": 0,
  "metadata": {
    "colab": {
      "name": "loan.ipynb",
      "provenance": [],
      "collapsed_sections": [],
      "authorship_tag": "ABX9TyOLPR4IkcNqzFMGC21vwSWy",
      "include_colab_link": true
    },
    "kernelspec": {
      "name": "python3",
      "display_name": "Python 3"
    },
    "language_info": {
      "name": "python"
    }
  },
  "cells": [
    {
      "cell_type": "markdown",
      "metadata": {
        "id": "view-in-github",
        "colab_type": "text"
      },
      "source": [
        "<a href=\"https://colab.research.google.com/github/Harismitha20/abc/blob/abc1/loan.ipynb\" target=\"_parent\"><img src=\"https://colab.research.google.com/assets/colab-badge.svg\" alt=\"Open In Colab\"/></a>"
      ]
    },
    {
      "cell_type": "code",
      "execution_count": 7,
      "metadata": {
        "colab": {
          "base_uri": "https://localhost:8080/"
        },
        "id": "xvtm6SRtLbUj",
        "outputId": "d71e998b-0fbb-4a00-dd3e-04b8cb640581"
      },
      "outputs": [
        {
          "output_type": "stream",
          "name": "stdout",
          "text": [
            "enter your annual salary:50000\n",
            "enter the number of yearsyears employed:10\n",
            "you are qualified for loan\n"
          ]
        }
      ],
      "source": [
        "MIN_SALARY = 30000.0\n",
        "MIN_YEARS = 2\n",
        "\n",
        "salary = float(input('enter your annual salary:'))\n",
        "\n",
        "years_on_job = int(input('enter the number of years' + 'years employed:'))\n",
        "\n",
        "if salary >= MIN_SALARY or years_on_job >= MIN_YEARS:\n",
        "  print('you are qualified for loan')\n",
        "else:\n",
        "    print('you are not qualified for loan')"
      ]
    },
    {
      "cell_type": "code",
      "source": [
        ""
      ],
      "metadata": {
        "id": "n8EhtNMbP8xf"
      },
      "execution_count": null,
      "outputs": []
    }
  ]
}